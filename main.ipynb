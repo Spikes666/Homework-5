{
 "cells": [
  {
   "cell_type": "markdown",
   "source": [
    "# Data 3550 - Homework 5\n",
    "\n",
    "### Professor Ramchandra Rimal\n",
    "### Nicholas Sartino\n",
    "### M00392300"
   ],
   "metadata": {
    "collapsed": false
   },
   "id": "32e394e1ab342ae2"
  },
  {
   "cell_type": "code",
   "execution_count": null,
   "outputs": [],
   "source": [
    "# Install Modules if needed\n",
    "\n",
    "#!pip install missingno"
   ],
   "metadata": {
    "collapsed": false
   },
   "id": "d1deeaa6e081f227"
  },
  {
   "cell_type": "code",
   "execution_count": 2,
   "outputs": [
    {
     "name": "stderr",
     "output_type": "stream",
     "text": [
      "/var/folders/q_/tlj94ng165zc5l_0x0clcwg00000gn/T/ipykernel_54402/2954141809.py:17: MatplotlibDeprecationWarning: The seaborn styles shipped by Matplotlib are deprecated since 3.6, as they no longer correspond to the styles shipped by seaborn. However, they will remain available as 'seaborn-v0_8-<style>'. Alternatively, directly use the seaborn API instead.\n",
      "  plt.style.use('seaborn') # a style that can be used for plots - see style reference above\n",
      "/var/folders/q_/tlj94ng165zc5l_0x0clcwg00000gn/T/ipykernel_54402/2954141809.py:20: DeprecationWarning: Importing display from IPython.core.display is deprecated since IPython 7.14, please import from IPython display\n",
      "  from IPython.core.display import display, HTML\n"
     ]
    },
    {
     "data": {
      "text/plain": "<IPython.core.display.HTML object>",
      "text/html": "<style>.container { width:95% !important; }</style>"
     },
     "metadata": {},
     "output_type": "display_data"
    }
   ],
   "source": [
    "# Imports\n",
    "\n",
    "import pandas as pd\n",
    "import seaborn as sns\n",
    "import matplotlib.pyplot as plt\n",
    "plt.style.use('fivethirtyeight')\n",
    "%matplotlib inline\n",
    "\n",
    "\n",
    "from sklearn.model_selection import train_test_split\n",
    "from sklearn.preprocessing import StandardScaler\n",
    "from sklearn.model_selection import GridSearchCV\n",
    "\n",
    "\n",
    "pd.set_option('display.max_columns',200) #allows for up to 200 columns to be displayed when viewing a dataframe\n",
    "pd.set_option('display.max_rows',100)\n",
    "plt.style.use('seaborn') # a style that can be used for plots - see style reference above\n",
    "\n",
    "# trick to widen the screen\n",
    "from IPython.core.display import display, HTML\n",
    "\n",
    "#Widens the code landscape \n",
    "display(HTML(\"<style>.container { width:95% !important; }</style>\"))\n",
    "\n",
    "import warnings\n",
    "warnings.filterwarnings(\"ignore\", category=DeprecationWarning)\n",
    "warnings.filterwarnings(\"ignore\", category=FutureWarning)\n",
    "import numpy as np\n",
    "import matplotlib.pyplot as plt\n",
    "import missingno as msno\n",
    "from sklearn.linear_model import LogisticRegression\n",
    "from sklearn.metrics import accuracy_score, classification_report, confusion_matrix, precision_score,recall_score\n",
    "from sklearn.metrics import roc_curve, auc"
   ],
   "metadata": {
    "collapsed": false,
    "ExecuteTime": {
     "end_time": "2023-11-24T18:43:03.814465Z",
     "start_time": "2023-11-24T18:43:03.484326Z"
    }
   },
   "id": "9ea070e88b00e01b"
  },
  {
   "cell_type": "markdown",
   "source": [
    "## 1. (20 points) For this problem you need to use the Heart dataset and seek to classify the patient have AHD or not using classification trees and related approaches."
   ],
   "metadata": {
    "collapsed": false
   },
   "id": "a40dc8758f80e724"
  },
  {
   "cell_type": "markdown",
   "source": [
    " 1. (a) Preprocess the data, you may need to convert the categorical variables to dummy variables, impute or drop the missing values. (3 points)\n",
    "\n"
   ],
   "metadata": {
    "collapsed": false
   },
   "id": "33a90d9cb93e1c07"
  },
  {
   "cell_type": "code",
   "execution_count": 53,
   "outputs": [],
   "source": [
    "# Read Data\n",
    "df = pd.read_csv('Heart.csv', index_col=0)"
   ],
   "metadata": {
    "collapsed": false,
    "ExecuteTime": {
     "end_time": "2023-11-24T19:05:41.110709Z",
     "start_time": "2023-11-24T19:05:41.097571Z"
    }
   },
   "id": "df9ad332abedb484"
  },
  {
   "cell_type": "code",
   "execution_count": 54,
   "outputs": [
    {
     "name": "stdout",
     "output_type": "stream",
     "text": [
      "<class 'pandas.core.frame.DataFrame'>\n",
      "Index: 303 entries, 1 to 303\n",
      "Data columns (total 14 columns):\n",
      " #   Column     Non-Null Count  Dtype  \n",
      "---  ------     --------------  -----  \n",
      " 0   Age        303 non-null    int64  \n",
      " 1   Sex        303 non-null    int64  \n",
      " 2   ChestPain  303 non-null    object \n",
      " 3   RestBP     303 non-null    int64  \n",
      " 4   Chol       303 non-null    int64  \n",
      " 5   Fbs        303 non-null    int64  \n",
      " 6   RestECG    303 non-null    int64  \n",
      " 7   MaxHR      303 non-null    int64  \n",
      " 8   ExAng      303 non-null    int64  \n",
      " 9   Oldpeak    303 non-null    float64\n",
      " 10  Slope      303 non-null    int64  \n",
      " 11  Ca         299 non-null    float64\n",
      " 12  Thal       301 non-null    object \n",
      " 13  AHD        303 non-null    object \n",
      "dtypes: float64(2), int64(9), object(3)\n",
      "memory usage: 35.5+ KB\n"
     ]
    }
   ],
   "source": [
    "# Basic info\n",
    "df.info()"
   ],
   "metadata": {
    "collapsed": false,
    "ExecuteTime": {
     "end_time": "2023-11-24T19:05:42.084202Z",
     "start_time": "2023-11-24T19:05:42.078780Z"
    }
   },
   "id": "7b26af9811a1a9d7"
  },
  {
   "cell_type": "code",
   "execution_count": 55,
   "outputs": [
    {
     "data": {
      "text/plain": "     Age  Sex     ChestPain  RestBP  Chol  Fbs  RestECG  MaxHR  ExAng  \\\n1     63    1       typical     145   233    1        2    150      0   \n2     67    1  asymptomatic     160   286    0        2    108      1   \n3     67    1  asymptomatic     120   229    0        2    129      1   \n4     37    1    nonanginal     130   250    0        0    187      0   \n5     41    0    nontypical     130   204    0        2    172      0   \n..   ...  ...           ...     ...   ...  ...      ...    ...    ...   \n299   45    1       typical     110   264    0        0    132      0   \n300   68    1  asymptomatic     144   193    1        0    141      0   \n301   57    1  asymptomatic     130   131    0        0    115      1   \n302   57    0    nontypical     130   236    0        2    174      0   \n303   38    1    nonanginal     138   175    0        0    173      0   \n\n     Oldpeak  Slope   Ca        Thal  AHD  \n1        2.3      3  0.0       fixed   No  \n2        1.5      2  3.0      normal  Yes  \n3        2.6      2  2.0  reversable  Yes  \n4        3.5      3  0.0      normal   No  \n5        1.4      1  0.0      normal   No  \n..       ...    ...  ...         ...  ...  \n299      1.2      2  0.0  reversable  Yes  \n300      3.4      2  2.0  reversable  Yes  \n301      1.2      2  1.0  reversable  Yes  \n302      0.0      2  1.0      normal  Yes  \n303      0.0      1  NaN      normal   No  \n\n[303 rows x 14 columns]",
      "text/html": "<div>\n<style scoped>\n    .dataframe tbody tr th:only-of-type {\n        vertical-align: middle;\n    }\n\n    .dataframe tbody tr th {\n        vertical-align: top;\n    }\n\n    .dataframe thead th {\n        text-align: right;\n    }\n</style>\n<table border=\"1\" class=\"dataframe\">\n  <thead>\n    <tr style=\"text-align: right;\">\n      <th></th>\n      <th>Age</th>\n      <th>Sex</th>\n      <th>ChestPain</th>\n      <th>RestBP</th>\n      <th>Chol</th>\n      <th>Fbs</th>\n      <th>RestECG</th>\n      <th>MaxHR</th>\n      <th>ExAng</th>\n      <th>Oldpeak</th>\n      <th>Slope</th>\n      <th>Ca</th>\n      <th>Thal</th>\n      <th>AHD</th>\n    </tr>\n  </thead>\n  <tbody>\n    <tr>\n      <th>1</th>\n      <td>63</td>\n      <td>1</td>\n      <td>typical</td>\n      <td>145</td>\n      <td>233</td>\n      <td>1</td>\n      <td>2</td>\n      <td>150</td>\n      <td>0</td>\n      <td>2.3</td>\n      <td>3</td>\n      <td>0.0</td>\n      <td>fixed</td>\n      <td>No</td>\n    </tr>\n    <tr>\n      <th>2</th>\n      <td>67</td>\n      <td>1</td>\n      <td>asymptomatic</td>\n      <td>160</td>\n      <td>286</td>\n      <td>0</td>\n      <td>2</td>\n      <td>108</td>\n      <td>1</td>\n      <td>1.5</td>\n      <td>2</td>\n      <td>3.0</td>\n      <td>normal</td>\n      <td>Yes</td>\n    </tr>\n    <tr>\n      <th>3</th>\n      <td>67</td>\n      <td>1</td>\n      <td>asymptomatic</td>\n      <td>120</td>\n      <td>229</td>\n      <td>0</td>\n      <td>2</td>\n      <td>129</td>\n      <td>1</td>\n      <td>2.6</td>\n      <td>2</td>\n      <td>2.0</td>\n      <td>reversable</td>\n      <td>Yes</td>\n    </tr>\n    <tr>\n      <th>4</th>\n      <td>37</td>\n      <td>1</td>\n      <td>nonanginal</td>\n      <td>130</td>\n      <td>250</td>\n      <td>0</td>\n      <td>0</td>\n      <td>187</td>\n      <td>0</td>\n      <td>3.5</td>\n      <td>3</td>\n      <td>0.0</td>\n      <td>normal</td>\n      <td>No</td>\n    </tr>\n    <tr>\n      <th>5</th>\n      <td>41</td>\n      <td>0</td>\n      <td>nontypical</td>\n      <td>130</td>\n      <td>204</td>\n      <td>0</td>\n      <td>2</td>\n      <td>172</td>\n      <td>0</td>\n      <td>1.4</td>\n      <td>1</td>\n      <td>0.0</td>\n      <td>normal</td>\n      <td>No</td>\n    </tr>\n    <tr>\n      <th>...</th>\n      <td>...</td>\n      <td>...</td>\n      <td>...</td>\n      <td>...</td>\n      <td>...</td>\n      <td>...</td>\n      <td>...</td>\n      <td>...</td>\n      <td>...</td>\n      <td>...</td>\n      <td>...</td>\n      <td>...</td>\n      <td>...</td>\n      <td>...</td>\n    </tr>\n    <tr>\n      <th>299</th>\n      <td>45</td>\n      <td>1</td>\n      <td>typical</td>\n      <td>110</td>\n      <td>264</td>\n      <td>0</td>\n      <td>0</td>\n      <td>132</td>\n      <td>0</td>\n      <td>1.2</td>\n      <td>2</td>\n      <td>0.0</td>\n      <td>reversable</td>\n      <td>Yes</td>\n    </tr>\n    <tr>\n      <th>300</th>\n      <td>68</td>\n      <td>1</td>\n      <td>asymptomatic</td>\n      <td>144</td>\n      <td>193</td>\n      <td>1</td>\n      <td>0</td>\n      <td>141</td>\n      <td>0</td>\n      <td>3.4</td>\n      <td>2</td>\n      <td>2.0</td>\n      <td>reversable</td>\n      <td>Yes</td>\n    </tr>\n    <tr>\n      <th>301</th>\n      <td>57</td>\n      <td>1</td>\n      <td>asymptomatic</td>\n      <td>130</td>\n      <td>131</td>\n      <td>0</td>\n      <td>0</td>\n      <td>115</td>\n      <td>1</td>\n      <td>1.2</td>\n      <td>2</td>\n      <td>1.0</td>\n      <td>reversable</td>\n      <td>Yes</td>\n    </tr>\n    <tr>\n      <th>302</th>\n      <td>57</td>\n      <td>0</td>\n      <td>nontypical</td>\n      <td>130</td>\n      <td>236</td>\n      <td>0</td>\n      <td>2</td>\n      <td>174</td>\n      <td>0</td>\n      <td>0.0</td>\n      <td>2</td>\n      <td>1.0</td>\n      <td>normal</td>\n      <td>Yes</td>\n    </tr>\n    <tr>\n      <th>303</th>\n      <td>38</td>\n      <td>1</td>\n      <td>nonanginal</td>\n      <td>138</td>\n      <td>175</td>\n      <td>0</td>\n      <td>0</td>\n      <td>173</td>\n      <td>0</td>\n      <td>0.0</td>\n      <td>1</td>\n      <td>NaN</td>\n      <td>normal</td>\n      <td>No</td>\n    </tr>\n  </tbody>\n</table>\n<p>303 rows × 14 columns</p>\n</div>"
     },
     "execution_count": 55,
     "metadata": {},
     "output_type": "execute_result"
    }
   ],
   "source": [
    "# Preview data\n",
    "df.head(303)"
   ],
   "metadata": {
    "collapsed": false,
    "ExecuteTime": {
     "end_time": "2023-11-24T19:05:42.903033Z",
     "start_time": "2023-11-24T19:05:42.890626Z"
    }
   },
   "id": "83ebd28fe66a1751"
  },
  {
   "cell_type": "code",
   "execution_count": 56,
   "outputs": [
    {
     "data": {
      "text/plain": "              Age         Sex      RestBP        Chol         Fbs     RestECG  \\\ncount  303.000000  303.000000  303.000000  303.000000  303.000000  303.000000   \nmean    54.438944    0.679868  131.689769  246.693069    0.148515    0.990099   \nstd      9.038662    0.467299   17.599748   51.776918    0.356198    0.994971   \nmin     29.000000    0.000000   94.000000  126.000000    0.000000    0.000000   \n25%     48.000000    0.000000  120.000000  211.000000    0.000000    0.000000   \n50%     56.000000    1.000000  130.000000  241.000000    0.000000    1.000000   \n75%     61.000000    1.000000  140.000000  275.000000    0.000000    2.000000   \nmax     77.000000    1.000000  200.000000  564.000000    1.000000    2.000000   \n\n            MaxHR       ExAng     Oldpeak       Slope          Ca  \ncount  303.000000  303.000000  303.000000  303.000000  299.000000  \nmean   149.607261    0.326733    1.039604    1.600660    0.672241  \nstd     22.875003    0.469794    1.161075    0.616226    0.937438  \nmin     71.000000    0.000000    0.000000    1.000000    0.000000  \n25%    133.500000    0.000000    0.000000    1.000000    0.000000  \n50%    153.000000    0.000000    0.800000    2.000000    0.000000  \n75%    166.000000    1.000000    1.600000    2.000000    1.000000  \nmax    202.000000    1.000000    6.200000    3.000000    3.000000  ",
      "text/html": "<div>\n<style scoped>\n    .dataframe tbody tr th:only-of-type {\n        vertical-align: middle;\n    }\n\n    .dataframe tbody tr th {\n        vertical-align: top;\n    }\n\n    .dataframe thead th {\n        text-align: right;\n    }\n</style>\n<table border=\"1\" class=\"dataframe\">\n  <thead>\n    <tr style=\"text-align: right;\">\n      <th></th>\n      <th>Age</th>\n      <th>Sex</th>\n      <th>RestBP</th>\n      <th>Chol</th>\n      <th>Fbs</th>\n      <th>RestECG</th>\n      <th>MaxHR</th>\n      <th>ExAng</th>\n      <th>Oldpeak</th>\n      <th>Slope</th>\n      <th>Ca</th>\n    </tr>\n  </thead>\n  <tbody>\n    <tr>\n      <th>count</th>\n      <td>303.000000</td>\n      <td>303.000000</td>\n      <td>303.000000</td>\n      <td>303.000000</td>\n      <td>303.000000</td>\n      <td>303.000000</td>\n      <td>303.000000</td>\n      <td>303.000000</td>\n      <td>303.000000</td>\n      <td>303.000000</td>\n      <td>299.000000</td>\n    </tr>\n    <tr>\n      <th>mean</th>\n      <td>54.438944</td>\n      <td>0.679868</td>\n      <td>131.689769</td>\n      <td>246.693069</td>\n      <td>0.148515</td>\n      <td>0.990099</td>\n      <td>149.607261</td>\n      <td>0.326733</td>\n      <td>1.039604</td>\n      <td>1.600660</td>\n      <td>0.672241</td>\n    </tr>\n    <tr>\n      <th>std</th>\n      <td>9.038662</td>\n      <td>0.467299</td>\n      <td>17.599748</td>\n      <td>51.776918</td>\n      <td>0.356198</td>\n      <td>0.994971</td>\n      <td>22.875003</td>\n      <td>0.469794</td>\n      <td>1.161075</td>\n      <td>0.616226</td>\n      <td>0.937438</td>\n    </tr>\n    <tr>\n      <th>min</th>\n      <td>29.000000</td>\n      <td>0.000000</td>\n      <td>94.000000</td>\n      <td>126.000000</td>\n      <td>0.000000</td>\n      <td>0.000000</td>\n      <td>71.000000</td>\n      <td>0.000000</td>\n      <td>0.000000</td>\n      <td>1.000000</td>\n      <td>0.000000</td>\n    </tr>\n    <tr>\n      <th>25%</th>\n      <td>48.000000</td>\n      <td>0.000000</td>\n      <td>120.000000</td>\n      <td>211.000000</td>\n      <td>0.000000</td>\n      <td>0.000000</td>\n      <td>133.500000</td>\n      <td>0.000000</td>\n      <td>0.000000</td>\n      <td>1.000000</td>\n      <td>0.000000</td>\n    </tr>\n    <tr>\n      <th>50%</th>\n      <td>56.000000</td>\n      <td>1.000000</td>\n      <td>130.000000</td>\n      <td>241.000000</td>\n      <td>0.000000</td>\n      <td>1.000000</td>\n      <td>153.000000</td>\n      <td>0.000000</td>\n      <td>0.800000</td>\n      <td>2.000000</td>\n      <td>0.000000</td>\n    </tr>\n    <tr>\n      <th>75%</th>\n      <td>61.000000</td>\n      <td>1.000000</td>\n      <td>140.000000</td>\n      <td>275.000000</td>\n      <td>0.000000</td>\n      <td>2.000000</td>\n      <td>166.000000</td>\n      <td>1.000000</td>\n      <td>1.600000</td>\n      <td>2.000000</td>\n      <td>1.000000</td>\n    </tr>\n    <tr>\n      <th>max</th>\n      <td>77.000000</td>\n      <td>1.000000</td>\n      <td>200.000000</td>\n      <td>564.000000</td>\n      <td>1.000000</td>\n      <td>2.000000</td>\n      <td>202.000000</td>\n      <td>1.000000</td>\n      <td>6.200000</td>\n      <td>3.000000</td>\n      <td>3.000000</td>\n    </tr>\n  </tbody>\n</table>\n</div>"
     },
     "execution_count": 56,
     "metadata": {},
     "output_type": "execute_result"
    }
   ],
   "source": [
    "# Basic Stats\n",
    "df.describe()"
   ],
   "metadata": {
    "collapsed": false,
    "ExecuteTime": {
     "end_time": "2023-11-24T19:05:43.703513Z",
     "start_time": "2023-11-24T19:05:43.657997Z"
    }
   },
   "id": "7fedb021c2c2c1dc"
  },
  {
   "cell_type": "code",
   "execution_count": 57,
   "outputs": [
    {
     "data": {
      "text/plain": "<Axes: >"
     },
     "execution_count": 57,
     "metadata": {},
     "output_type": "execute_result"
    },
    {
     "data": {
      "text/plain": "<Figure size 2500x1000 with 2 Axes>",
      "image/png": "[encoded data removed]"
     },
     "metadata": {},
     "output_type": "display_data"
    }
   ],
   "source": [
    "# Visualize missing values\n",
    "msno.matrix(df)"
   ],
   "metadata": {
    "collapsed": false,
    "ExecuteTime": {
     "end_time": "2023-11-24T19:05:44.884466Z",
     "start_time": "2023-11-24T19:05:44.397230Z"
    }
   },
   "id": "a29b3469c970f410"
  },
  {
   "cell_type": "code",
   "execution_count": 58,
   "outputs": [
    {
     "data": {
      "text/plain": "Age          0\nSex          0\nChestPain    0\nRestBP       0\nChol         0\nFbs          0\nRestECG      0\nMaxHR        0\nExAng        0\nOldpeak      0\nSlope        0\nCa           4\nThal         2\nAHD          0\ndtype: int64"
     },
     "execution_count": 58,
     "metadata": {},
     "output_type": "execute_result"
    }
   ],
   "source": [
    "# Confirm NA Counts\n",
    "df.isnull().sum()"
   ],
   "metadata": {
    "collapsed": false,
    "ExecuteTime": {
     "end_time": "2023-11-24T19:05:45.812729Z",
     "start_time": "2023-11-24T19:05:45.802789Z"
    }
   },
   "id": "35379f99198d87d0"
  },
  {
   "cell_type": "markdown",
   "source": [
    "Because there are only a few rows with NaN values, I decided to drop them instead of filling with the mean value.  The values for 'Ca' appear to all be integers, but the mean is a decimal, so I didn't want to use the mean here.  The field 'Thal' is a description field that I don't know enough about to attempt substituting or inferring the correct value."
   ],
   "metadata": {
    "collapsed": false
   },
   "id": "f2a8126f06ef376c"
  },
  {
   "cell_type": "code",
   "execution_count": 59,
   "outputs": [],
   "source": [
    "# Drop rows with NaN values in any column\n",
    "df = df.dropna()"
   ],
   "metadata": {
    "collapsed": false,
    "ExecuteTime": {
     "end_time": "2023-11-24T19:05:47.332518Z",
     "start_time": "2023-11-24T19:05:47.323608Z"
    }
   },
   "id": "9a35bb0f381b37bf"
  },
  {
   "cell_type": "code",
   "execution_count": 60,
   "outputs": [],
   "source": [
    "# Create dummies for categorical values and drop them from df\n",
    "\n",
    "# Select categorical columns (object types) excluding the target column\n",
    "categorical_columns = df.select_dtypes(include=['object']).columns.difference(['AHD'])\n",
    "\n",
    "# Create binary dummies for categorical columns\n",
    "dummies = pd.get_dummies(df[categorical_columns], drop_first=False)\n",
    "\n",
    "# Append the dummies to the original DataFrame\n",
    "df = pd.concat([df, dummies], axis=1)\n",
    "\n",
    "# Drop the original categorical columns\n",
    "df = df.drop(categorical_columns, axis=1)\n"
   ],
   "metadata": {
    "collapsed": false,
    "ExecuteTime": {
     "end_time": "2023-11-24T19:05:48.125710Z",
     "start_time": "2023-11-24T19:05:48.115216Z"
    }
   },
   "id": "f61dd8fa63436f55"
  },
  {
   "cell_type": "code",
   "execution_count": 61,
   "outputs": [],
   "source": [
    "# Select binary dummy columns (True/False)\n",
    "binary_dummy_columns = df.select_dtypes(include=bool).columns\n",
    "\n",
    "# Replace True/False with 1/0 in the binary dummy columns\n",
    "df[binary_dummy_columns] = df[binary_dummy_columns].astype(int)"
   ],
   "metadata": {
    "collapsed": false,
    "ExecuteTime": {
     "end_time": "2023-11-24T19:05:50.450610Z",
     "start_time": "2023-11-24T19:05:50.438541Z"
    }
   },
   "id": "860c331acca54600"
  },
  {
   "cell_type": "code",
   "execution_count": 62,
   "outputs": [
    {
     "data": {
      "text/plain": "   Age  Sex  RestBP  Chol  Fbs  RestECG  MaxHR  ExAng  Oldpeak  Slope   Ca  \\\n1   63    1     145   233    1        2    150      0      2.3      3  0.0   \n2   67    1     160   286    0        2    108      1      1.5      2  3.0   \n3   67    1     120   229    0        2    129      1      2.6      2  2.0   \n4   37    1     130   250    0        0    187      0      3.5      3  0.0   \n5   41    0     130   204    0        2    172      0      1.4      1  0.0   \n\n   AHD  ChestPain_asymptomatic  ChestPain_nonanginal  ChestPain_nontypical  \\\n1   No                       0                     0                     0   \n2  Yes                       1                     0                     0   \n3  Yes                       1                     0                     0   \n4   No                       0                     1                     0   \n5   No                       0                     0                     1   \n\n   ChestPain_typical  Thal_fixed  Thal_normal  Thal_reversable  \n1                  1           1            0                0  \n2                  0           0            1                0  \n3                  0           0            0                1  \n4                  0           0            1                0  \n5                  0           0            1                0  ",
      "text/html": "<div>\n<style scoped>\n    .dataframe tbody tr th:only-of-type {\n        vertical-align: middle;\n    }\n\n    .dataframe tbody tr th {\n        vertical-align: top;\n    }\n\n    .dataframe thead th {\n        text-align: right;\n    }\n</style>\n<table border=\"1\" class=\"dataframe\">\n  <thead>\n    <tr style=\"text-align: right;\">\n      <th></th>\n      <th>Age</th>\n      <th>Sex</th>\n      <th>RestBP</th>\n      <th>Chol</th>\n      <th>Fbs</th>\n      <th>RestECG</th>\n      <th>MaxHR</th>\n      <th>ExAng</th>\n      <th>Oldpeak</th>\n      <th>Slope</th>\n      <th>Ca</th>\n      <th>AHD</th>\n      <th>ChestPain_asymptomatic</th>\n      <th>ChestPain_nonanginal</th>\n      <th>ChestPain_nontypical</th>\n      <th>ChestPain_typical</th>\n      <th>Thal_fixed</th>\n      <th>Thal_normal</th>\n      <th>Thal_reversable</th>\n    </tr>\n  </thead>\n  <tbody>\n    <tr>\n      <th>1</th>\n      <td>63</td>\n      <td>1</td>\n      <td>145</td>\n      <td>233</td>\n      <td>1</td>\n      <td>2</td>\n      <td>150</td>\n      <td>0</td>\n      <td>2.3</td>\n      <td>3</td>\n      <td>0.0</td>\n      <td>No</td>\n      <td>0</td>\n      <td>0</td>\n      <td>0</td>\n      <td>1</td>\n      <td>1</td>\n      <td>0</td>\n      <td>0</td>\n    </tr>\n    <tr>\n      <th>2</th>\n      <td>67</td>\n      <td>1</td>\n      <td>160</td>\n      <td>286</td>\n      <td>0</td>\n      <td>2</td>\n      <td>108</td>\n      <td>1</td>\n      <td>1.5</td>\n      <td>2</td>\n      <td>3.0</td>\n      <td>Yes</td>\n      <td>1</td>\n      <td>0</td>\n      <td>0</td>\n      <td>0</td>\n      <td>0</td>\n      <td>1</td>\n      <td>0</td>\n    </tr>\n    <tr>\n      <th>3</th>\n      <td>67</td>\n      <td>1</td>\n      <td>120</td>\n      <td>229</td>\n      <td>0</td>\n      <td>2</td>\n      <td>129</td>\n      <td>1</td>\n      <td>2.6</td>\n      <td>2</td>\n      <td>2.0</td>\n      <td>Yes</td>\n      <td>1</td>\n      <td>0</td>\n      <td>0</td>\n      <td>0</td>\n      <td>0</td>\n      <td>0</td>\n      <td>1</td>\n    </tr>\n    <tr>\n      <th>4</th>\n      <td>37</td>\n      <td>1</td>\n      <td>130</td>\n      <td>250</td>\n      <td>0</td>\n      <td>0</td>\n      <td>187</td>\n      <td>0</td>\n      <td>3.5</td>\n      <td>3</td>\n      <td>0.0</td>\n      <td>No</td>\n      <td>0</td>\n      <td>1</td>\n      <td>0</td>\n      <td>0</td>\n      <td>0</td>\n      <td>1</td>\n      <td>0</td>\n    </tr>\n    <tr>\n      <th>5</th>\n      <td>41</td>\n      <td>0</td>\n      <td>130</td>\n      <td>204</td>\n      <td>0</td>\n      <td>2</td>\n      <td>172</td>\n      <td>0</td>\n      <td>1.4</td>\n      <td>1</td>\n      <td>0.0</td>\n      <td>No</td>\n      <td>0</td>\n      <td>0</td>\n      <td>1</td>\n      <td>0</td>\n      <td>0</td>\n      <td>1</td>\n      <td>0</td>\n    </tr>\n  </tbody>\n</table>\n</div>"
     },
     "execution_count": 62,
     "metadata": {},
     "output_type": "execute_result"
    }
   ],
   "source": [
    "df.head()"
   ],
   "metadata": {
    "collapsed": false,
    "ExecuteTime": {
     "end_time": "2023-11-24T19:05:51.483324Z",
     "start_time": "2023-11-24T19:05:51.476989Z"
    }
   },
   "id": "35537c902d70dafe"
  },
  {
   "cell_type": "markdown",
   "source": [
    "1. (b) Split the data set into a training set and a test set in which training set consists of 70% of the data and the remaining data on the test set. (1 point)"
   ],
   "metadata": {
    "collapsed": false
   },
   "id": "dc21040b374cf4a"
  },
  {
   "cell_type": "code",
   "execution_count": 63,
   "outputs": [
    {
     "name": "stdout",
     "output_type": "stream",
     "text": [
      "Training set shape: (207, 18) (207,)\n",
      "Test set shape: (90, 18) (90,)\n"
     ]
    }
   ],
   "source": [
    "# Separate the features (X) and the target variable (y)\n",
    "X = df.drop('AHD', axis=1)  # Features\n",
    "y = df['AHD']  # Target variable\n",
    "\n",
    "# Split the data into a training set and a test set (70% training, 30% test)\n",
    "X_train, X_test, y_train, y_test = train_test_split(X, y, test_size=0.3, random_state=42)\n",
    "\n",
    "# Display the shapes of the training and test sets\n",
    "print(\"Training set shape:\", X_train.shape, y_train.shape)\n",
    "print(\"Test set shape:\", X_test.shape, y_test.shape)"
   ],
   "metadata": {
    "collapsed": false,
    "ExecuteTime": {
     "end_time": "2023-11-24T19:06:16.291846Z",
     "start_time": "2023-11-24T19:06:16.282096Z"
    }
   },
   "id": "87e69d734bcfe4a3"
  },
  {
   "cell_type": "markdown",
   "source": [
    "2. (a)\n",
    "Fit a tree to the training data, with AHD as the response and the other variables as predictors. (1 points)\n",
    "(b) Calculate the accuracy, sensitivity and specificity on the training data. Describe the results obtained. (1 points)\n",
    "(c) Calculate the accuracy, sensitivity and specificity on the test data. Describe the results obtained. (2 points)\n",
    "(d) Create a variable importance plot. (1 points)\n"
   ],
   "metadata": {
    "collapsed": false
   },
   "id": "b467264cf151ab12"
  },
  {
   "cell_type": "code",
   "execution_count": null,
   "outputs": [],
   "source": [],
   "metadata": {
    "collapsed": false
   },
   "id": "9b2b3a623d012935"
  },
  {
   "cell_type": "markdown",
   "source": [],
   "metadata": {
    "collapsed": false
   },
   "id": "b96f548cee9e4725"
  },
  {
   "cell_type": "code",
   "execution_count": null,
   "outputs": [],
   "source": [
    "3. (a)\n",
    "Using the result from part 1, Fit a tree to the training data, with AHD as the response and the most important 7 variables as predictors. (2 points)\n",
    "(b) Calculate the accuracy, sensitivity and specificity on the training data. Describe the results obtained. (2 points)\n",
    "(c) What is the training accuracy? Is there any difference in score compared to previous model that uses all predictors? (1 points)\n",
    "(d) Create a plot of the tree, and interpret the results. (2 points)\n",
    "(e) Pick one of the terminal nodes, and interpret the information displayed. (2 points)\n"
   ],
   "metadata": {
    "collapsed": false
   },
   "id": "2057e1f0cad10215"
  },
  {
   "cell_type": "code",
   "execution_count": null,
   "outputs": [],
   "source": [],
   "metadata": {
    "collapsed": false
   },
   "id": "31f9c2cd4f0f5a74"
  },
  {
   "cell_type": "markdown",
   "source": [
    "4. (a)\n",
    "Predict the response on the test data, and produce and plot a confusion matrix com- paring the test labels to the predicted test labels.\n",
    "(b) What is the test accuracy? What would be the accuracy score without the model (i.e if we just classify the observation to the class with higher count)? Based on the results, is the model useful or not? (1 points)\n",
    "(c) Plot a ROC curve and explain your observation. (2 points)"
   ],
   "metadata": {
    "collapsed": false
   },
   "id": "ff16adb9981286e6"
  },
  {
   "cell_type": "code",
   "execution_count": null,
   "outputs": [],
   "source": [],
   "metadata": {
    "collapsed": false
   },
   "id": "9f0d2c325db78539"
  },
  {
   "cell_type": "code",
   "execution_count": null,
   "outputs": [],
   "source": [],
   "metadata": {
    "collapsed": false
   },
   "id": "48861f41e8f9036a"
  }
 ],
 "metadata": {
  "kernelspec": {
   "display_name": "Python 3",
   "language": "python",
   "name": "python3"
  },
  "language_info": {
   "codemirror_mode": {
    "name": "ipython",
    "version": 2
   },
   "file_extension": ".py",
   "mimetype": "text/x-python",
   "name": "python",
   "nbconvert_exporter": "python",
   "pygments_lexer": "ipython2",
   "version": "2.7.6"
  }
 },
 "nbformat": 4,
 "nbformat_minor": 5
}
